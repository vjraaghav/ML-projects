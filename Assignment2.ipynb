{
 "cells": [
  {
   "cell_type": "markdown",
   "metadata": {},
   "source": [
    "1.1 Write a python program to implement your own myreduce() function which workds exactly like python's built-in function reduce()"
   ]
  },
  {
   "cell_type": "markdown",
   "metadata": {},
   "source": [
    "# Task 1"
   ]
  },
  {
   "cell_type": "code",
   "execution_count": 93,
   "metadata": {},
   "outputs": [],
   "source": [
    "# Steps\n",
    "#1. Create a function which accepts function and list of values\n",
    "#2. Store the first value in empty_list variable\n",
    "#3. Use for loop and execute the function with first iterable value (empty_list) and second iterable value (i); store it \n",
    "# in the same variable\n",
    "\n",
    "def my_reduce(func,iterables):\n",
    "    empty_list=iterables[0]\n",
    "    for i in iterables[1:]:\n",
    "        empty_list = func(empty_list,i)\n",
    "    print(empty_list)"
   ]
  },
  {
   "cell_type": "markdown",
   "metadata": {},
   "source": [
    "# my_reduce function - testing"
   ]
  },
  {
   "cell_type": "code",
   "execution_count": 94,
   "metadata": {},
   "outputs": [
    {
     "name": "stdout",
     "output_type": "stream",
     "text": [
      "101\n"
     ]
    }
   ],
   "source": [
    "#TEST1\n",
    "#Testing my_reduce function by passing 'add' function and list of values\n",
    "import operator\n",
    "lst = [10,12,19,18,20,22]\n",
    "my_reduce(operator.add,lst)"
   ]
  },
  {
   "cell_type": "code",
   "execution_count": 95,
   "metadata": {},
   "outputs": [
    {
     "data": {
      "text/plain": [
       "101"
      ]
     },
     "execution_count": 95,
     "metadata": {},
     "output_type": "execute_result"
    }
   ],
   "source": [
    "#TEST1 - Comparing the output of my_reduce function with reduce function\n",
    "import functools\n",
    "functools.reduce(operator.add,lst)"
   ]
  },
  {
   "cell_type": "code",
   "execution_count": 96,
   "metadata": {},
   "outputs": [
    {
     "name": "stdout",
     "output_type": "stream",
     "text": [
      "18057600\n"
     ]
    }
   ],
   "source": [
    "#TEST2 - Testing my_reduce function by passing 'mul' (multiplication) function and list of values\n",
    "my_reduce(operator.mul,lst)"
   ]
  },
  {
   "cell_type": "code",
   "execution_count": 97,
   "metadata": {},
   "outputs": [
    {
     "data": {
      "text/plain": [
       "18057600"
      ]
     },
     "execution_count": 97,
     "metadata": {},
     "output_type": "execute_result"
    }
   ],
   "source": [
    "#TEST2 - Comparing the output of my_reduce function with reduce function\n",
    "functools.reduce(operator.mul,lst)"
   ]
  },
  {
   "cell_type": "code",
   "execution_count": 98,
   "metadata": {},
   "outputs": [
    {
     "name": "stdout",
     "output_type": "stream",
     "text": [
      "101\n"
     ]
    }
   ],
   "source": [
    "#TEST3 - Testing my_reduce function by passing lambda function and list of values\n",
    "my_reduce(lambda a,b:a+b,lst)"
   ]
  },
  {
   "cell_type": "code",
   "execution_count": 99,
   "metadata": {},
   "outputs": [
    {
     "data": {
      "text/plain": [
       "101"
      ]
     },
     "execution_count": 99,
     "metadata": {},
     "output_type": "execute_result"
    }
   ],
   "source": [
    "#TEST3 - Comparing the output of my_reduce function with reduce function\n",
    "functools.reduce(lambda a,b:a+b,lst)"
   ]
  },
  {
   "cell_type": "markdown",
   "metadata": {},
   "source": [
    "1.2 Write a python program to implement your own myfilter() function which workds exactly like python's built-in function filter()"
   ]
  },
  {
   "cell_type": "code",
   "execution_count": 100,
   "metadata": {},
   "outputs": [],
   "source": [
    "# Steps\n",
    "#1. Create a function which accepts function and list of values\n",
    "#2. Create empty list - 'empty_list' variable\n",
    "#3  if func argument is 'None', print the list else step4\n",
    "#4. Use for loop and execute the function, if True, append the value\n",
    "#5  Print the 'empty_list'\n",
    "\n",
    "def my_filter(func,iterables):\n",
    "    empty_list=[]\n",
    "    if func == None:\n",
    "        print(iterables)\n",
    "    else:\n",
    "        for i in iterables:\n",
    "            if func(i):\n",
    "                empty_list.append(i)\n",
    "        print(empty_list)"
   ]
  },
  {
   "cell_type": "code",
   "execution_count": 101,
   "metadata": {},
   "outputs": [],
   "source": [
    "# Below function returns False when x is less than 18 else return True\n",
    "def myfunc(x):\n",
    "    if x < 18:\n",
    "        return False\n",
    "    else:\n",
    "        return True"
   ]
  },
  {
   "cell_type": "markdown",
   "metadata": {},
   "source": [
    "# my_filter function - testing"
   ]
  },
  {
   "cell_type": "code",
   "execution_count": 102,
   "metadata": {},
   "outputs": [
    {
     "name": "stdout",
     "output_type": "stream",
     "text": [
      "[19, 18, 20, 22, 999, 333, 444, 555, 666, 7777, 8989898]\n"
     ]
    }
   ],
   "source": [
    "#TEST1\n",
    "#Testing my_filter function by passing 'my_func' function and list of values\n",
    "#Output should return value 18 and above\n",
    "lst = [1,2,4,5,6,7,10,12,19,18,20,22,999,333,444,555,666,7777,8989898]\n",
    "my_filter(myfunc,lst)"
   ]
  },
  {
   "cell_type": "code",
   "execution_count": 103,
   "metadata": {},
   "outputs": [
    {
     "data": {
      "text/plain": [
       "[19, 18, 20, 22, 999, 333, 444, 555, 666, 7777, 8989898]"
      ]
     },
     "execution_count": 103,
     "metadata": {},
     "output_type": "execute_result"
    }
   ],
   "source": [
    "#TEST1 - Comparing the output of my_filter function with filter function\n",
    "list(filter(myfunc,lst))"
   ]
  },
  {
   "cell_type": "code",
   "execution_count": 104,
   "metadata": {},
   "outputs": [
    {
     "name": "stdout",
     "output_type": "stream",
     "text": [
      "[2, 4, 6, 10, 12, 18, 20, 22, 444, 666, 8989898]\n"
     ]
    }
   ],
   "source": [
    "#Test2 - Passing lambda function and list of values in my_filter function\n",
    "#Output should return the values which are divisible by 2\n",
    "my_filter(lambda x: x % 2 == 0,lst)"
   ]
  },
  {
   "cell_type": "code",
   "execution_count": 105,
   "metadata": {},
   "outputs": [
    {
     "data": {
      "text/plain": [
       "[2, 4, 6, 10, 12, 18, 20, 22, 444, 666, 8989898]"
      ]
     },
     "execution_count": 105,
     "metadata": {},
     "output_type": "execute_result"
    }
   ],
   "source": [
    "#Test2 - Passing lambda function and list of values in filter function\n",
    "list(filter(lambda x: x % 2 == 0,lst))"
   ]
  },
  {
   "cell_type": "code",
   "execution_count": 106,
   "metadata": {},
   "outputs": [
    {
     "name": "stdout",
     "output_type": "stream",
     "text": [
      "[1, 2, 4, 5, 6, 7, 10, 12, 19, 18, 20, 22, 999, 333, 444, 555, 666, 7777, 8989898]\n"
     ]
    }
   ],
   "source": [
    "#Test3 - Passing 'None' and list of values in my_filter function\n",
    "#Output should return all the values\n",
    "my_filter(None,lst)"
   ]
  },
  {
   "cell_type": "code",
   "execution_count": 107,
   "metadata": {},
   "outputs": [
    {
     "data": {
      "text/plain": [
       "[1,\n",
       " 2,\n",
       " 4,\n",
       " 5,\n",
       " 6,\n",
       " 7,\n",
       " 10,\n",
       " 12,\n",
       " 19,\n",
       " 18,\n",
       " 20,\n",
       " 22,\n",
       " 999,\n",
       " 333,\n",
       " 444,\n",
       " 555,\n",
       " 666,\n",
       " 7777,\n",
       " 8989898]"
      ]
     },
     "execution_count": 107,
     "metadata": {},
     "output_type": "execute_result"
    }
   ],
   "source": [
    "#Test3 - Passing 'None' and list of values in filter function\n",
    "list(filter(None,lst))"
   ]
  },
  {
   "cell_type": "markdown",
   "metadata": {},
   "source": [
    "2. implement list comprehensions "
   ]
  },
  {
   "cell_type": "code",
   "execution_count": 3,
   "metadata": {},
   "outputs": [
    {
     "data": {
      "text/plain": [
       "['A', 'C', 'A', 'D', 'G', 'I', 'L', 'D']"
      ]
     },
     "execution_count": 3,
     "metadata": {},
     "output_type": "execute_result"
    }
   ],
   "source": [
    "[i for i in 'ACADGILD']"
   ]
  },
  {
   "cell_type": "code",
   "execution_count": 35,
   "metadata": {},
   "outputs": [
    {
     "data": {
      "text/plain": [
       "['x', 'xx', 'xxx', 'xxxx', 'y', 'yy', 'yyy', 'yyyy', 'z', 'zz', 'zzz', 'zzzz']"
      ]
     },
     "execution_count": 35,
     "metadata": {},
     "output_type": "execute_result"
    }
   ],
   "source": [
    "[i*j for i in 'xyz' for j in range(1,5) ]"
   ]
  },
  {
   "cell_type": "code",
   "execution_count": 36,
   "metadata": {},
   "outputs": [
    {
     "data": {
      "text/plain": [
       "['x', 'y', 'z', 'xx', 'yy', 'zz', 'xxx', 'yyy', 'zzz', 'xxxx', 'yyyy', 'zzzz']"
      ]
     },
     "execution_count": 36,
     "metadata": {},
     "output_type": "execute_result"
    }
   ],
   "source": [
    "[i*j for j in range(1,5) for i in 'xyz']"
   ]
  },
  {
   "cell_type": "code",
   "execution_count": 72,
   "metadata": {},
   "outputs": [
    {
     "data": {
      "text/plain": [
       "[[2], [3], [4], [3], [4], [5], [4], [5], [6]]"
      ]
     },
     "execution_count": 72,
     "metadata": {},
     "output_type": "execute_result"
    }
   ],
   "source": [
    "[[i+j] for j in range(0,3) for i in range(2,5)]"
   ]
  },
  {
   "cell_type": "code",
   "execution_count": 112,
   "metadata": {},
   "outputs": [
    {
     "data": {
      "text/plain": [
       "[[2, 3, 4, 5], [3, 4, 5, 6], [4, 5, 6, 7], [5, 6, 7, 8]]"
      ]
     },
     "execution_count": 112,
     "metadata": {},
     "output_type": "execute_result"
    }
   ],
   "source": [
    "[ list(i+j for i in range(1,5)) for j in range(1,5) ]"
   ]
  },
  {
   "cell_type": "code",
   "execution_count": 81,
   "metadata": {},
   "outputs": [
    {
     "data": {
      "text/plain": [
       "[(1, 1), (2, 1), (3, 1), (1, 2), (2, 2), (3, 2), (1, 3), (2, 3), (3, 3)]"
      ]
     },
     "execution_count": 81,
     "metadata": {},
     "output_type": "execute_result"
    }
   ],
   "source": [
    "[ (i,j) for j in range(1,4) for i in range(1,4)  ]"
   ]
  },
  {
   "cell_type": "markdown",
   "metadata": {},
   "source": [
    "3. Implement a function longestword() that takes a list of words and returns the longest one"
   ]
  },
  {
   "cell_type": "code",
   "execution_count": 1,
   "metadata": {},
   "outputs": [
    {
     "name": "stdout",
     "output_type": "stream",
     "text": [
      "Enter comma seperated words: Vijay, Viraan, Vijayaraghavan, Raghavan, John\n",
      " Vijayaraghavan\n"
     ]
    }
   ],
   "source": [
    "a = input('Enter comma seperated words: ')\n",
    "str_l = a.split(',')\n",
    "str_len = len(str_l)\n",
    "f = []\n",
    "cnt = 0\n",
    "i=0\n",
    "while i<= (str_len-1):\n",
    "    if cnt==0:\n",
    "        prev_value = str_l[i]\n",
    "        f.append(str_l[i])\n",
    "        cnt+=1\n",
    "    else:\n",
    "        if len(str_l[i]) > len(prev_value):\n",
    "            prev_value = str_l[i]\n",
    "        elif len(str_l[i]) ==len(prev_value):\n",
    "            prev_value = str_l[i]\n",
    "            f.append(str_l[i])\n",
    "    i+=1\n",
    "if len(f)==str_len:\n",
    "    print(\"length of all words are same: \")\n",
    "    print(f)\n",
    "else:\n",
    "    print(prev_value)"
   ]
  },
  {
   "cell_type": "markdown",
   "metadata": {},
   "source": [
    "# Task 2"
   ]
  },
  {
   "cell_type": "raw",
   "metadata": {},
   "source": [
    "1.1\n",
    "Write a Python Program(with class concepts) to find the area of the triangle using the below\n",
    "formula.\n",
    "area = (s*(s-a)*(s-b)*(s-c)) ** 0.5\n",
    "Function to take the length of the sides of triangle from user should be defined in the parent\n",
    "class and function to calculate the area should be defined in subclass."
   ]
  },
  {
   "cell_type": "code",
   "execution_count": 1,
   "metadata": {},
   "outputs": [],
   "source": [
    "class area_of_traingle:\n",
    "    def __init__(self):\n",
    "        self.a = int(input('Enter a: '))\n",
    "        self.b = int(input('Enter b: '))\n",
    "        self.c = int(input('Enter c: '))   \n",
    "\n",
    "class calculation(area_of_traingle):\n",
    "    #def __init__(self):\n",
    "    #    area_of_traingle.__init__(self)\n",
    "        \n",
    "    # (s*(s-a)*(s-b)*(s-c)) ** 0.5\n",
    "    def calc(self):\n",
    "        \n",
    "        a = self.a\n",
    "        b = self.b\n",
    "        c = self.c\n",
    "        \n",
    "        s = ((a + b + c) / 2)\n",
    "        area = (s*(s-a)*(s-b)*(s-c)) ** 0.5\n",
    "        print('The area of a traingle is : %0.2f' %area)\n",
    "        "
   ]
  },
  {
   "cell_type": "code",
   "execution_count": 2,
   "metadata": {},
   "outputs": [
    {
     "name": "stdout",
     "output_type": "stream",
     "text": [
      "Enter a: 12\n",
      "Enter b: 13\n",
      "Enter c: 14\n",
      "The area of a traingle is : 72.31\n"
     ]
    }
   ],
   "source": [
    "x = calculation()\n",
    "x.calc()\n",
    "\n",
    "#print(x.calculation)"
   ]
  },
  {
   "cell_type": "markdown",
   "metadata": {},
   "source": [
    "1.2 Write a function filter_long_words() that takes a list of words and an integer n and returns the list of words that are longer than n."
   ]
  },
  {
   "cell_type": "code",
   "execution_count": 2,
   "metadata": {},
   "outputs": [],
   "source": [
    "def filter_long_words():\n",
    "    a = input('Enter comma seperated words: ')\n",
    "    b = int(input('Enter an integer: '))\n",
    "    str_l = a.split(',')\n",
    "    out_str_list = []\n",
    "    for i in str_l:\n",
    "        if (len(i) > b):\n",
    "            out_str_list.append(i)\n",
    "    print(\"Words greater than \"+str(b)+\" are follows:\")\n",
    "    print(out_str_list)"
   ]
  },
  {
   "cell_type": "code",
   "execution_count": 3,
   "metadata": {},
   "outputs": [
    {
     "name": "stdout",
     "output_type": "stream",
     "text": [
      "Enter comma seperated words: vijay, asdfghjkl,Raghavan, Viraan,lkjhgfdertyuiio\n",
      "Enter an integer: 9\n",
      "Words greater than 9 are follows:\n",
      "[' asdfghjkl', 'lkjhgfdertyuiio']\n"
     ]
    }
   ],
   "source": [
    "filter_long_words()"
   ]
  },
  {
   "cell_type": "markdown",
   "metadata": {},
   "source": [
    "2.1 Write a python program using function concept that maps list of words into a list of integers representing the lengths of the corresponding words"
   ]
  },
  {
   "cell_type": "code",
   "execution_count": 4,
   "metadata": {},
   "outputs": [],
   "source": [
    "def func_str_len():\n",
    "    x = input('Enter comma seperated values: ')\n",
    "    str_list=[]\n",
    "    str_len=[]\n",
    "    str_list = x.split(',')\n",
    "    for i in str_list:\n",
    "        str_len.append(len(i))\n",
    "    print(\"length of words in the list:\")    \n",
    "    print(str_len)"
   ]
  },
  {
   "cell_type": "code",
   "execution_count": 5,
   "metadata": {},
   "outputs": [
    {
     "name": "stdout",
     "output_type": "stream",
     "text": [
      "Enter comma seperated values: vijay, asdfghjkl,Raghavan, Viraan,lkjhgfdertyuiio\n",
      "length of words in the list:\n",
      "[5, 10, 8, 7, 15]\n"
     ]
    }
   ],
   "source": [
    "func_str_len()"
   ]
  },
  {
   "cell_type": "markdown",
   "metadata": {},
   "source": [
    "2.2 Write a python function which takes a character (i.e. a string of length 1) and returns True if it is vowel, False otherwise"
   ]
  },
  {
   "cell_type": "code",
   "execution_count": 6,
   "metadata": {},
   "outputs": [
    {
     "name": "stdout",
     "output_type": "stream",
     "text": [
      "Enter one character: e\n",
      "True - It is vowel character\n"
     ]
    }
   ],
   "source": [
    "import string\n",
    "\n",
    "vowels = ['a','e','i','o','u','A','E','I','O','U']\n",
    "a = input('Enter one character: ')\n",
    "if len(a) == 1 and a in string.ascii_letters:\n",
    "    if a in vowels:\n",
    "        print('True - It is vowel character')\n",
    "    else:\n",
    "        print('False - It is not vowel character')\n",
    "elif len(a) == 1 and ( a not in string.ascii_letters):\n",
    "    print('Enter only character value')\n",
    "else:\n",
    "    print('Please enter only one character')"
   ]
  }
 ],
 "metadata": {
  "kernelspec": {
   "display_name": "Python 3",
   "language": "python",
   "name": "python3"
  },
  "language_info": {
   "codemirror_mode": {
    "name": "ipython",
    "version": 3
   },
   "file_extension": ".py",
   "mimetype": "text/x-python",
   "name": "python",
   "nbconvert_exporter": "python",
   "pygments_lexer": "ipython3",
   "version": "3.7.4"
  }
 },
 "nbformat": 4,
 "nbformat_minor": 2
}
