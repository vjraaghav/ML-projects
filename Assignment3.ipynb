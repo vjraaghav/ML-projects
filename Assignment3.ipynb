{
 "cells": [
  {
   "cell_type": "markdown",
   "metadata": {},
   "source": [
    "# Task1"
   ]
  },
  {
   "cell_type": "markdown",
   "metadata": {},
   "source": [
    "1. Write a function to compute 5/0 and use try/except to catch the exceptions."
   ]
  },
  {
   "cell_type": "code",
   "execution_count": 134,
   "metadata": {},
   "outputs": [
    {
     "name": "stdout",
     "output_type": "stream",
     "text": [
      "Enter numerator: 5\n",
      "Enter denominator: 0\n",
      "Number cannot be divisible by 0\n"
     ]
    }
   ],
   "source": [
    "# Objective - accept numerator and denominator from user and handle the exception if denominator is 0 \n",
    "\n",
    "# Steps\n",
    "# 1) enter integer value as numerator\n",
    "# 2) enter integer value as denominator\n",
    "# 3) divide the number and print it\n",
    "# 4) raise exception when numerator is 0\n",
    "\n",
    "a = int(input('Enter numerator: '))\n",
    "b = int(input('Enter denominator: '))\n",
    "try:\n",
    "    a_val = type(a)\n",
    "    b_val = type(b)\n",
    "    c = (a/b)\n",
    "except Exception:\n",
    "    print ('Number cannot be divisible by 0')\n",
    "else:\n",
    "    print(c)"
   ]
  },
  {
   "cell_type": "markdown",
   "metadata": {},
   "source": [
    "2.Implement a Python program to generate all sentences where subject is in [\"Americans\",\n",
    "\"Indians\"] and verb is in [\"Play\", \"watch\"] and the object is in [\"Baseball\",\"cricket\"].\n",
    "Hint: Subject,Verb and Object should be declared in the program as shown below.\n",
    "subjects=[\"Americans \",\"Indians\"]\n",
    "verbs=[\"play\",\"watch\"]\n",
    "objects=[\"Baseball\",\"Cricket\"]"
   ]
  },
  {
   "cell_type": "code",
   "execution_count": 135,
   "metadata": {},
   "outputs": [
    {
     "name": "stdout",
     "output_type": "stream",
     "text": [
      "Americans  play Baseball\n",
      "Americans  play Cricket\n",
      "Americans  watch Baseball\n",
      "Americans  watch Cricket\n",
      "Indians play Baseball\n",
      "Indians play Cricket\n",
      "Indians watch Baseball\n",
      "Indians watch Cricket\n"
     ]
    }
   ],
   "source": [
    "# Objective - Generate sentence based on the lists --> subject, verb and objects \n",
    "\n",
    "# Steps\n",
    "# 1) Import itertools package\n",
    "# 2) declare subject, verb and object lists\n",
    "# 3) use product function. this function computes the cartesian product of input iterables.\n",
    "# 4) use for loop to loop through the text and print it\n",
    "\n",
    "import itertools\n",
    "subjects=[\"Americans \",\"Indians\"]\n",
    "verbs=[\"play\",\"watch\"]\n",
    "objects=[\"Baseball\",\"Cricket\"]\n",
    "final_result = itertools.product(subjects,verbs,objects)\n",
    "for i in final_result:\n",
    "    print (' '.join(i))\n"
   ]
  },
  {
   "cell_type": "code",
   "execution_count": 136,
   "metadata": {},
   "outputs": [
    {
     "name": "stdout",
     "output_type": "stream",
     "text": [
      "Americans  play Baseball\n",
      "Americans  play Cricket\n",
      "Americans  watch Baseball\n",
      "Americans  watch Cricket\n",
      "Indians play Baseball\n",
      "Indians play Cricket\n",
      "Indians watch Baseball\n",
      "Indians watch Cricket\n"
     ]
    }
   ],
   "source": [
    "# using for loop to print cartesian product of given iterables\n",
    "subjects=[\"Americans \",\"Indians\"]\n",
    "verbs=[\"play\",\"watch\"]\n",
    "objects=[\"Baseball\",\"Cricket\"]\n",
    "for i in subjects:\n",
    "    for j in verbs:\n",
    "        for k in objects:\n",
    "            print(i,j,k)"
   ]
  },
  {
   "cell_type": "markdown",
   "metadata": {},
   "source": [
    "# Task2"
   ]
  },
  {
   "cell_type": "markdown",
   "metadata": {},
   "source": [
    "1.Write a function so that the columns of the output matrix are powers of the input vector.\n",
    "The order of the powers is determined by the increasing boolean argument. Specifically, when\n",
    "increasing is False, the i-th output column is the input vector raised element-wise to the power\n",
    "of N - i - 1."
   ]
  },
  {
   "cell_type": "code",
   "execution_count": 172,
   "metadata": {},
   "outputs": [],
   "source": [
    "# Objective - Generate matrix based on input list \n",
    "\n",
    "# Steps\n",
    "# 1) Import numpy package\n",
    "# 2) declare a list l and create empty list new_list\n",
    "# 3) Create a function - mat which accepts 3 parameters (list, number of columns, True/False)\n",
    "# 4) if True, create matrix in increaing order; false - create matrix in decreasing order\n",
    "import numpy as np\n",
    "l = [33,44,55,66]\n",
    "new_list =[]\n",
    "def mat(l,n=len(l),inc=True):\n",
    "    cnt = 1\n",
    "    z = 1\n",
    "    for i in l:\n",
    "        if inc==False:\n",
    "            while z < n+1:\n",
    "                new_list.append(i**(n-cnt))\n",
    "                z=z+1\n",
    "                if n != cnt:\n",
    "                    cnt = cnt+1\n",
    "            z=1\n",
    "            cnt=1\n",
    "        elif inc==True:\n",
    "            for k in reversed(range(1,n+1)):\n",
    "                new_list.append(i**(n-k))\n",
    "    print(new_list)\n",
    "    print(repr(np.reshape(new_list, (len(l),n))))"
   ]
  },
  {
   "cell_type": "code",
   "execution_count": 175,
   "metadata": {},
   "outputs": [
    {
     "name": "stdout",
     "output_type": "stream",
     "text": [
      "4\n",
      "[35937, 1089, 33, 1, 85184, 1936, 44, 1, 166375, 3025, 55, 1, 287496, 4356, 66, 1]\n",
      "array([[ 35937,   1089,     33,      1],\n",
      "       [ 85184,   1936,     44,      1],\n",
      "       [166375,   3025,     55,      1],\n",
      "       [287496,   4356,     66,      1]])\n",
      "4\n",
      "[1, 33, 1089, 35937, 1, 44, 1936, 85184, 1, 55, 3025, 166375, 1, 66, 4356, 287496]\n",
      "array([[     1,     33,   1089,  35937],\n",
      "       [     1,     44,   1936,  85184],\n",
      "       [     1,     55,   3025, 166375],\n",
      "       [     1,     66,   4356, 287496]])\n"
     ]
    }
   ],
   "source": [
    "mat(l,4,False)\n",
    "new_list =[]\n",
    "mat(l,4,True)\n",
    "new_list =[]"
   ]
  },
  {
   "cell_type": "code",
   "execution_count": null,
   "metadata": {},
   "outputs": [],
   "source": []
  },
  {
   "cell_type": "code",
   "execution_count": null,
   "metadata": {},
   "outputs": [],
   "source": []
  }
 ],
 "metadata": {
  "kernelspec": {
   "display_name": "Python 3",
   "language": "python",
   "name": "python3"
  },
  "language_info": {
   "codemirror_mode": {
    "name": "ipython",
    "version": 3
   },
   "file_extension": ".py",
   "mimetype": "text/x-python",
   "name": "python",
   "nbconvert_exporter": "python",
   "pygments_lexer": "ipython3",
   "version": "3.7.4"
  }
 },
 "nbformat": 4,
 "nbformat_minor": 2
}
